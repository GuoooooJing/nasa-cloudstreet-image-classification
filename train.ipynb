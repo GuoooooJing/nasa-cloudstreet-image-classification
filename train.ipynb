{
 "cells": [
  {
   "cell_type": "code",
   "execution_count": 11,
   "metadata": {},
   "outputs": [],
   "source": [
    "import torch\n",
    "from PIL import Image\n",
    "import os"
   ]
  },
  {
   "cell_type": "code",
   "execution_count": 22,
   "metadata": {},
   "outputs": [],
   "source": [
    "NO_PATH = \"./cloudstreet/no/\"\n",
    "YES_PATH = \"./cloudstreet/yes/\"\n",
    "TRAIN_NO_PATH = \"./dataset/train/0/\"\n",
    "TRAIN_YES_PATH = \"./dataset/train/1/\"\n",
    "TEST_NO_PATH = \"./dataset/test/0/\"\n",
    "TEST_YES_PATH = \"./dataset/test/1/\"\n",
    "train_no_num = 200\n",
    "train_yes_num = 400\n",
    "test_no_num = 100\n",
    "test_yes_num = 200"
   ]
  },
  {
   "cell_type": "code",
   "execution_count": 23,
   "metadata": {},
   "outputs": [],
   "source": [
    "lst_no = os.listdir(NO_PATH)\n",
    "lst_yes = os.listdir(YES_PATH)"
   ]
  },
  {
   "cell_type": "code",
   "execution_count": 24,
   "metadata": {},
   "outputs": [],
   "source": [
    "import random\n",
    "datalst_no = random.sample(lst_no, k=(train_no_num+test_no_num))\n",
    "datalst_yes = random.sample(lst_yes, k=(train_yes_num+test_yes_num))"
   ]
  },
  {
   "cell_type": "code",
   "execution_count": 25,
   "metadata": {},
   "outputs": [],
   "source": [
    "for i in os.listdir(TRAIN_NO_PATH):\n",
    "    try:\n",
    "        os.remove(TRAIN_NO_PATH+i)\n",
    "    except OSError as e:\n",
    "        print(\"Error: %s : %s\" % (TRAIN_NO_PATH+i, e.strerror))\n",
    "        \n",
    "for i in os.listdir(TRAIN_YES_PATH):\n",
    "    try:\n",
    "        os.remove(TRAIN_YES_PATH+i)\n",
    "    except OSError as e:\n",
    "        print(\"Error: %s : %s\" % (TRAIN_YES_PATH+i, e.strerror))\n",
    "        \n",
    "for i in os.listdir(TEST_NO_PATH):\n",
    "    try:\n",
    "        os.remove(TEST_NO_PATH+i)\n",
    "    except OSError as e:\n",
    "        print(\"Error: %s : %s\" % (TEST_NO_PATH+i, e.strerror))\n",
    "        \n",
    "for i in os.listdir(TEST_YES_PATH):\n",
    "    try:\n",
    "        os.remove(TEST_YES_PATH+i)\n",
    "    except OSError as e:\n",
    "        print(\"Error: %s : %s\" % (TEST_YES_PATH+i, e.strerror))\n",
    ""
   ]
  },
  {
   "cell_type": "code",
   "execution_count": 26,
   "metadata": {},
   "outputs": [],
   "source": [
    "for i, n in enumerate(datalst_no):\n",
    "    img = Image.open(NO_PATH+n).resize((800,800))\n",
    "    if i < train_no_num:\n",
    "        img.save(TRAIN_NO_PATH+n)\n",
    "    else:\n",
    "        img.save(TEST_NO_PATH+n)\n",
    "    \n",
    "for i, n in enumerate(datalst_yes):\n",
    "    img = Image.open(YES_PATH+n).resize((800,800))\n",
    "    if i < train_yes_num:\n",
    "        img.save(TRAIN_YES_PATH+n)\n",
    "    else:\n",
    "        img.save(TEST_YES_PATH+n)"
   ]
  },
  {
   "cell_type": "code",
   "execution_count": 27,
   "metadata": {},
   "outputs": [
    {
     "output_type": "stream",
     "name": "stdout",
     "text": "100 200 200 400\n"
    }
   ],
   "source": [
    "print(len(os.listdir(TEST_NO_PATH)), len(os.listdir(TEST_YES_PATH)), len(os.listdir(TRAIN_NO_PATH)), len(os.listdir(TRAIN_YES_PATH)))"
   ]
  },
  {
   "cell_type": "code",
   "execution_count": 32,
   "metadata": {},
   "outputs": [],
   "source": [
    "import torch \n",
    "import torch.nn as nn\n",
    "import torchvision\n",
    "import torchvision.transforms as transforms\n",
    "import csv\n",
    "from model.twolayer import ConvNet"
   ]
  },
  {
   "cell_type": "code",
   "execution_count": 29,
   "metadata": {},
   "outputs": [],
   "source": [
    "# Device configuration\n",
    "device = torch.device('cuda:0' if torch.cuda.is_available() else 'cpu')\n",
    "\n",
    "# Hyper parameters\n",
    "num_epochs = 20\n",
    "num_classes = 2\n",
    "batch_size = 64\n",
    "learning_rate = 0.001\n",
    "\n",
    "# MNIST dataset\n",
    "\n",
    "train_dataset = torchvision.datasets.ImageFolder(root='./dataset/train/',\n",
    "                                           transform=transforms.ToTensor())\n",
    "\n",
    "test_dataset = torchvision.datasets.ImageFolder(root='./dataset/test/',\n",
    "                                          transform=transforms.ToTensor())\n",
    "\n",
    "# Data loader\n",
    "train_loader = torch.utils.data.DataLoader(dataset=train_dataset,\n",
    "                                           batch_size=batch_size, \n",
    "                                           shuffle=True)\n",
    "\n",
    "test_loader = torch.utils.data.DataLoader(dataset=test_dataset,\n",
    "                                          batch_size=batch_size, \n",
    "                                          shuffle=False)\n",
    ""
   ]
  },
  {
   "cell_type": "code",
   "execution_count": 30,
   "metadata": {},
   "outputs": [
    {
     "output_type": "execute_result",
     "data": {
      "text/plain": "10"
     },
     "metadata": {},
     "execution_count": 30
    }
   ],
   "source": [
    "len(train_loader)"
   ]
  },
  {
   "cell_type": "code",
   "execution_count": 15,
   "metadata": {},
   "outputs": [],
   "source": [
    "# Convolutional neural network (two convolutional layers)\n",
    "# class ConvNet(nn.Module):\n",
    "#     def __init__(self, num_classes=10):\n",
    "#         super(ConvNet, self).__init__()\n",
    "#         self.layer1 = nn.Sequential(\n",
    "#             nn.Conv2d(3, 16, kernel_size=6, stride=2, padding=3),\n",
    "#             nn.ReLU(),\n",
    "#             nn.MaxPool2d(kernel_size=2, stride=2)\n",
    "#         )\n",
    "#         self.layer2 = nn.Sequential(\n",
    "#             nn.Conv2d(16, 32, kernel_size=5, stride=1, padding=4),\n",
    "#             nn.BatchNorm2d(32),\n",
    "#             nn.ReLU(),\n",
    "#             nn.MaxPool2d(kernel_size=2, stride=2)\n",
    "#         )\n",
    "#         self.layer3 = nn.Sequential(\n",
    "#             nn.Conv2d(32, 64, kernel_size=5, stride=1, padding=2),\n",
    "#             nn.BatchNorm2d(64),\n",
    "#             nn.ReLU(),\n",
    "#             nn.MaxPool2d(kernel_size=2, stride=2)\n",
    "#         )\n",
    "#         self.fc1 = nn.Linear(51*51*64, 64)\n",
    "#         self.fc2 = nn.Linear(64, 2)\n",
    "#         self.fc3 = nn.Sigmoid()\n",
    "#         self.relu = nn.ReLU()\n",
    "#         self.dropout = nn.Dropout(0.1)\n",
    "\n",
    "#     def forward(self, x):\n",
    "#         out = self.layer1(x)\n",
    "#         out = self.layer2(out)\n",
    "#         out = self.layer3(out)\n",
    "#         #print(out.size())\n",
    "#         out = out.reshape(out.size(0), -1)\n",
    "#         out = self.relu(self.fc1(out))\n",
    "#         out = self.dropout(out)\n",
    "#         out = self.fc2(out)\n",
    "#         out = self.fc3(out)\n",
    "#         return out\n",
    "\n"
   ]
  },
  {
   "cell_type": "code",
   "execution_count": 14,
   "metadata": {
    "scrolled": true,
    "tags": [
     "outputPrepend",
     "outputPrepend",
     "outputPrepend",
     "outputPrepend",
     "outputPrepend",
     "outputPrepend",
     "outputPrepend",
     "outputPrepend",
     "outputPrepend"
    ]
   },
   "outputs": [
    {
     "output_type": "stream",
     "name": "stdout",
     "text": "torch.Size([64, 2])\nEpoch [1/40], Step [1/10], Loss: 0.8840\ntorch.Size([64, 2])\nEpoch [1/40], Step [2/10], Loss: 387.5888\ntorch.Size([64, 2])\nEpoch [1/40], Step [3/10], Loss: 261.3987\ntorch.Size([64, 2])\nEpoch [1/40], Step [4/10], Loss: 103.2427\ntorch.Size([64, 2])\nEpoch [1/40], Step [5/10], Loss: 376.4947\ntorch.Size([64, 2])\nEpoch [1/40], Step [6/10], Loss: 192.4856\ntorch.Size([64, 2])\nEpoch [1/40], Step [7/10], Loss: 61.6175\ntorch.Size([64, 2])\nEpoch [1/40], Step [8/10], Loss: 198.2867\ntorch.Size([64, 2])\nEpoch [1/40], Step [9/10], Loss: 195.4205\ntorch.Size([6, 2])\nEpoch [1/40], Step [10/10], Loss: 105.0928\ntorch.Size([64, 2])\nEpoch [2/40], Step [1/10], Loss: 168.2166\ntorch.Size([64, 2])\nEpoch [2/40], Step [2/10], Loss: 124.2459\ntorch.Size([64, 2])\nEpoch [2/40], Step [3/10], Loss: 77.1104\ntorch.Size([64, 2])\nEpoch [2/40], Step [4/10], Loss: 65.8472\ntorch.Size([64, 2])\nEpoch [2/40], Step [5/10], Loss: 90.8445\ntorch.Size([64, 2])\nEpoch [2/40], Step [6/10], Loss: 119.0965\ntorch.Size([64, 2])\nEpoch [2/40], Step [7/10], Loss: 100.0652\ntorch.Size([64, 2])\nEpoch [2/40], Step [8/10], Loss: 104.6785\ntorch.Size([64, 2])\nEpoch [2/40], Step [9/10], Loss: 31.5525\ntorch.Size([6, 2])\nEpoch [2/40], Step [10/10], Loss: 125.2055\ntorch.Size([64, 2])\nEpoch [3/40], Step [1/10], Loss: 21.8829\ntorch.Size([64, 2])\nEpoch [3/40], Step [2/10], Loss: 25.9340\ntorch.Size([64, 2])\nEpoch [3/40], Step [3/10], Loss: 18.9595\ntorch.Size([64, 2])\nEpoch [3/40], Step [4/10], Loss: 21.3477\ntorch.Size([64, 2])\nEpoch [3/40], Step [5/10], Loss: 23.6009\ntorch.Size([64, 2])\nEpoch [3/40], Step [6/10], Loss: 29.6552\ntorch.Size([64, 2])\nEpoch [3/40], Step [7/10], Loss: 19.2335\ntorch.Size([64, 2])\nEpoch [3/40], Step [8/10], Loss: 20.3688\ntorch.Size([64, 2])\nEpoch [3/40], Step [9/10], Loss: 15.1136\ntorch.Size([6, 2])\nEpoch [3/40], Step [10/10], Loss: 33.0799\ntorch.Size([64, 2])\nEpoch [4/40], Step [1/10], Loss: 65.2316\ntorch.Size([64, 2])\nEpoch [4/40], Step [2/10], Loss: 25.2653\ntorch.Size([64, 2])\nEpoch [4/40], Step [3/10], Loss: 20.8840\ntorch.Size([64, 2])\nEpoch [4/40], Step [4/10], Loss: 42.5004\ntorch.Size([64, 2])\nEpoch [4/40], Step [5/10], Loss: 29.4388\ntorch.Size([64, 2])\nEpoch [4/40], Step [6/10], Loss: 26.6961\ntorch.Size([64, 2])\nEpoch [4/40], Step [7/10], Loss: 14.5027\ntorch.Size([64, 2])\nEpoch [4/40], Step [8/10], Loss: 22.6173\ntorch.Size([64, 2])\nEpoch [4/40], Step [9/10], Loss: 31.9976\ntorch.Size([6, 2])\nEpoch [4/40], Step [10/10], Loss: 26.4655\ntorch.Size([64, 2])\nEpoch [5/40], Step [1/10], Loss: 18.8273\ntorch.Size([64, 2])\nEpoch [5/40], Step [2/10], Loss: 65.5095\ntorch.Size([64, 2])\nEpoch [5/40], Step [3/10], Loss: 42.7338\ntorch.Size([64, 2])\nEpoch [5/40], Step [4/10], Loss: 19.0236\ntorch.Size([64, 2])\nEpoch [5/40], Step [5/10], Loss: 5.3544\ntorch.Size([64, 2])\nEpoch [5/40], Step [6/10], Loss: 16.8220\ntorch.Size([64, 2])\nEpoch [5/40], Step [7/10], Loss: 27.0218\ntorch.Size([64, 2])\nEpoch [5/40], Step [8/10], Loss: 21.1517\ntorch.Size([64, 2])\nEpoch [5/40], Step [9/10], Loss: 14.4564\ntorch.Size([6, 2])\nEpoch [5/40], Step [10/10], Loss: 31.8915\ntorch.Size([64, 2])\nEpoch [6/40], Step [1/10], Loss: 27.7359\ntorch.Size([64, 2])\nEpoch [6/40], Step [2/10], Loss: 20.4728\ntorch.Size([64, 2])\nEpoch [6/40], Step [3/10], Loss: 14.5233\ntorch.Size([64, 2])\nEpoch [6/40], Step [4/10], Loss: 14.2384\ntorch.Size([64, 2])\nEpoch [6/40], Step [5/10], Loss: 13.3048\ntorch.Size([64, 2])\nEpoch [6/40], Step [6/10], Loss: 14.2278\ntorch.Size([64, 2])\nEpoch [6/40], Step [7/10], Loss: 32.0411\ntorch.Size([64, 2])\nEpoch [6/40], Step [8/10], Loss: 8.8716\ntorch.Size([64, 2])\nEpoch [6/40], Step [9/10], Loss: 8.0436\ntorch.Size([6, 2])\nEpoch [6/40], Step [10/10], Loss: 2.6813\ntorch.Size([64, 2])\nEpoch [7/40], Step [1/10], Loss: 13.7562\ntorch.Size([64, 2])\nEpoch [7/40], Step [2/10], Loss: 11.8718\ntorch.Size([64, 2])\nEpoch [7/40], Step [3/10], Loss: 15.0739\ntorch.Size([64, 2])\nEpoch [7/40], Step [4/10], Loss: 9.6097\ntorch.Size([64, 2])\nEpoch [7/40], Step [5/10], Loss: 19.7077\ntorch.Size([64, 2])\nEpoch [7/40], Step [6/10], Loss: 14.3830\ntorch.Size([64, 2])\nEpoch [7/40], Step [7/10], Loss: 1.7244\ntorch.Size([64, 2])\nEpoch [7/40], Step [8/10], Loss: 7.5121\ntorch.Size([64, 2])\nEpoch [7/40], Step [9/10], Loss: 23.8297\ntorch.Size([6, 2])\nEpoch [7/40], Step [10/10], Loss: 0.0000\ntorch.Size([64, 2])\nEpoch [8/40], Step [1/10], Loss: 5.1823\ntorch.Size([64, 2])\nEpoch [8/40], Step [2/10], Loss: 15.0415\ntorch.Size([64, 2])\nEpoch [8/40], Step [3/10], Loss: 17.9898\ntorch.Size([64, 2])\nEpoch [8/40], Step [4/10], Loss: 3.6234\ntorch.Size([64, 2])\nEpoch [8/40], Step [5/10], Loss: 3.7336\ntorch.Size([64, 2])\nEpoch [8/40], Step [6/10], Loss: 5.9307\ntorch.Size([64, 2])\nEpoch [8/40], Step [7/10], Loss: 13.7018\ntorch.Size([64, 2])\nEpoch [8/40], Step [8/10], Loss: 4.4658\ntorch.Size([64, 2])\nEpoch [8/40], Step [9/10], Loss: 3.1211\ntorch.Size([6, 2])\nEpoch [8/40], Step [10/10], Loss: 10.6483\ntorch.Size([64, 2])\nEpoch [9/40], Step [1/10], Loss: 8.3840\ntorch.Size([64, 2])\nEpoch [9/40], Step [2/10], Loss: 0.6474\ntorch.Size([64, 2])\nEpoch [9/40], Step [3/10], Loss: 7.4714\ntorch.Size([64, 2])\nEpoch [9/40], Step [4/10], Loss: 4.8013\ntorch.Size([64, 2])\nEpoch [9/40], Step [5/10], Loss: 2.1536\ntorch.Size([64, 2])\nEpoch [9/40], Step [6/10], Loss: 0.3361\ntorch.Size([64, 2])\nEpoch [9/40], Step [7/10], Loss: 1.4332\ntorch.Size([64, 2])\nEpoch [9/40], Step [8/10], Loss: 6.8736\ntorch.Size([64, 2])\nEpoch [9/40], Step [9/10], Loss: 1.9845\ntorch.Size([6, 2])\nEpoch [9/40], Step [10/10], Loss: 2.5243\ntorch.Size([64, 2])\nEpoch [10/40], Step [1/10], Loss: 4.1018\ntorch.Size([64, 2])\nEpoch [10/40], Step [2/10], Loss: 4.7615\ntorch.Size([64, 2])\nEpoch [10/40], Step [3/10], Loss: 6.1760\ntorch.Size([64, 2])\nEpoch [10/40], Step [4/10], Loss: 1.5452\ntorch.Size([64, 2])\nEpoch [10/40], Step [5/10], Loss: 1.6148\ntorch.Size([64, 2])\nEpoch [10/40], Step [6/10], Loss: 2.1424\ntorch.Size([64, 2])\nEpoch [10/40], Step [7/10], Loss: 4.2966\ntorch.Size([64, 2])\nEpoch [10/40], Step [8/10], Loss: 0.8161\ntorch.Size([64, 2])\nEpoch [10/40], Step [9/10], Loss: 0.5338\ntorch.Size([6, 2])\nEpoch [10/40], Step [10/10], Loss: 3.9975\ntorch.Size([64, 2])\nEpoch [11/40], Step [1/10], Loss: 11.3403\ntorch.Size([64, 2])\nEpoch [11/40], Step [2/10], Loss: 5.6719\ntorch.Size([64, 2])\nEpoch [11/40], Step [3/10], Loss: 1.3253\ntorch.Size([64, 2])\nEpoch [11/40], Step [4/10], Loss: 10.5519\ntorch.Size([64, 2])\nEpoch [11/40], Step [5/10], Loss: 14.7212\ntorch.Size([64, 2])\nEpoch [11/40], Step [6/10], Loss: 6.1109\ntorch.Size([64, 2])\nEpoch [11/40], Step [7/10], Loss: 0.7792\ntorch.Size([64, 2])\nEpoch [11/40], Step [8/10], Loss: 1.1967\ntorch.Size([64, 2])\nEpoch [11/40], Step [9/10], Loss: 11.0860\ntorch.Size([6, 2])\nEpoch [11/40], Step [10/10], Loss: 0.0000\ntorch.Size([64, 2])\nEpoch [12/40], Step [1/10], Loss: 7.8118\ntorch.Size([64, 2])\nEpoch [12/40], Step [2/10], Loss: 1.6546\ntorch.Size([64, 2])\nEpoch [12/40], Step [3/10], Loss: 1.4281\ntorch.Size([64, 2])\nEpoch [12/40], Step [4/10], Loss: 0.1346\ntorch.Size([64, 2])\nEpoch [12/40], Step [5/10], Loss: 3.4921\ntorch.Size([64, 2])\nEpoch [12/40], Step [6/10], Loss: 5.4094\ntorch.Size([64, 2])\nEpoch [12/40], Step [7/10], Loss: 7.1078\ntorch.Size([64, 2])\nEpoch [12/40], Step [8/10], Loss: 3.8402\ntorch.Size([64, 2])\nEpoch [12/40], Step [9/10], Loss: 2.3723\ntorch.Size([6, 2])\nEpoch [12/40], Step [10/10], Loss: 0.0000\ntorch.Size([64, 2])\nEpoch [13/40], Step [1/10], Loss: 5.4775\ntorch.Size([64, 2])\nEpoch [13/40], Step [2/10], Loss: 6.2786\ntorch.Size([64, 2])\nEpoch [13/40], Step [3/10], Loss: 0.6619\ntorch.Size([64, 2])\nEpoch [13/40], Step [4/10], Loss: 0.7416\ntorch.Size([64, 2])\nEpoch [13/40], Step [5/10], Loss: 8.5339\ntorch.Size([64, 2])\nEpoch [13/40], Step [6/10], Loss: 1.0036\ntorch.Size([64, 2])\nEpoch [13/40], Step [7/10], Loss: 1.4234\ntorch.Size([64, 2])\nEpoch [13/40], Step [8/10], Loss: 2.2439\ntorch.Size([64, 2])\nEpoch [13/40], Step [9/10], Loss: 8.0227\ntorch.Size([6, 2])\nEpoch [13/40], Step [10/10], Loss: 0.0000\ntorch.Size([64, 2])\nEpoch [14/40], Step [1/10], Loss: 2.9855\ntorch.Size([64, 2])\nEpoch [14/40], Step [2/10], Loss: 1.8889\ntorch.Size([64, 2])\nEpoch [14/40], Step [3/10], Loss: 0.5338\ntorch.Size([64, 2])\nEpoch [14/40], Step [4/10], Loss: 2.3845\ntorch.Size([64, 2])\nEpoch [14/40], Step [5/10], Loss: 2.8850\ntorch.Size([64, 2])\nEpoch [14/40], Step [6/10], Loss: 1.1091\ntorch.Size([64, 2])\nEpoch [14/40], Step [7/10], Loss: 1.1430\ntorch.Size([64, 2])\nEpoch [14/40], Step [8/10], Loss: 0.0068\ntorch.Size([64, 2])\nEpoch [14/40], Step [9/10], Loss: 2.4157\ntorch.Size([6, 2])\nEpoch [14/40], Step [10/10], Loss: 10.9570\ntorch.Size([64, 2])\nEpoch [15/40], Step [1/10], Loss: 0.1247\ntorch.Size([64, 2])\nEpoch [15/40], Step [2/10], Loss: 1.9145\ntorch.Size([64, 2])\nEpoch [15/40], Step [3/10], Loss: 1.1703\ntorch.Size([64, 2])\nEpoch [15/40], Step [4/10], Loss: 0.6835\ntorch.Size([64, 2])\nEpoch [15/40], Step [5/10], Loss: 3.6357\ntorch.Size([64, 2])\nEpoch [15/40], Step [6/10], Loss: 2.7053\ntorch.Size([64, 2])\nEpoch [15/40], Step [7/10], Loss: 0.9511\ntorch.Size([64, 2])\nEpoch [15/40], Step [8/10], Loss: 1.4146\ntorch.Size([64, 2])\nEpoch [15/40], Step [9/10], Loss: 1.0582\ntorch.Size([6, 2])\nEpoch [15/40], Step [10/10], Loss: 0.0000\ntorch.Size([64, 2])\nEpoch [16/40], Step [1/10], Loss: 4.8205\ntorch.Size([64, 2])\nEpoch [16/40], Step [2/10], Loss: 1.7676\ntorch.Size([64, 2])\nEpoch [16/40], Step [3/10], Loss: 0.0000\ntorch.Size([64, 2])\nEpoch [16/40], Step [4/10], Loss: 0.6146\ntorch.Size([64, 2])\nEpoch [16/40], Step [5/10], Loss: 4.5442\ntorch.Size([64, 2])\nEpoch [16/40], Step [6/10], Loss: 1.9328\ntorch.Size([64, 2])\nEpoch [16/40], Step [7/10], Loss: 0.4892\ntorch.Size([64, 2])\nEpoch [16/40], Step [8/10], Loss: 1.6643\ntorch.Size([64, 2])\nEpoch [16/40], Step [9/10], Loss: 2.4724\ntorch.Size([6, 2])\nEpoch [16/40], Step [10/10], Loss: 0.0000\ntorch.Size([64, 2])\nEpoch [17/40], Step [1/10], Loss: 3.2181\ntorch.Size([64, 2])\nEpoch [17/40], Step [2/10], Loss: 0.8266\ntorch.Size([64, 2])\nEpoch [17/40], Step [3/10], Loss: 0.3810\ntorch.Size([64, 2])\nEpoch [17/40], Step [4/10], Loss: 0.0000\ntorch.Size([64, 2])\nEpoch [17/40], Step [5/10], Loss: 0.3552\ntorch.Size([64, 2])\nEpoch [17/40], Step [6/10], Loss: 0.0514\ntorch.Size([64, 2])\nEpoch [17/40], Step [7/10], Loss: 0.0031\ntorch.Size([64, 2])\nEpoch [17/40], Step [8/10], Loss: 1.4992\ntorch.Size([64, 2])\nEpoch [17/40], Step [9/10], Loss: 0.6297\ntorch.Size([6, 2])\nEpoch [17/40], Step [10/10], Loss: 0.0000\ntorch.Size([64, 2])\nEpoch [18/40], Step [1/10], Loss: 0.0000\ntorch.Size([64, 2])\nEpoch [18/40], Step [2/10], Loss: 0.0000\ntorch.Size([64, 2])\nEpoch [18/40], Step [3/10], Loss: 0.0872\ntorch.Size([64, 2])\nEpoch [18/40], Step [4/10], Loss: 0.0000\ntorch.Size([64, 2])\nEpoch [18/40], Step [5/10], Loss: 0.0000\ntorch.Size([64, 2])\nEpoch [18/40], Step [6/10], Loss: 0.0000\ntorch.Size([64, 2])\nEpoch [18/40], Step [7/10], Loss: 0.0000\ntorch.Size([64, 2])\nEpoch [18/40], Step [8/10], Loss: 0.6771\ntorch.Size([64, 2])\nEpoch [18/40], Step [9/10], Loss: 0.7928\ntorch.Size([6, 2])\nEpoch [18/40], Step [10/10], Loss: 0.0000\ntorch.Size([64, 2])\nEpoch [19/40], Step [1/10], Loss: 0.6858\ntorch.Size([64, 2])\nEpoch [19/40], Step [2/10], Loss: 0.7238\ntorch.Size([64, 2])\nEpoch [19/40], Step [3/10], Loss: 0.5012\ntorch.Size([64, 2])\nEpoch [19/40], Step [4/10], Loss: 0.0005\ntorch.Size([64, 2])\nEpoch [19/40], Step [5/10], Loss: 0.0000\ntorch.Size([64, 2])\nEpoch [19/40], Step [6/10], Loss: 0.5695\ntorch.Size([64, 2])\nEpoch [19/40], Step [7/10], Loss: 0.0000\ntorch.Size([64, 2])\nEpoch [19/40], Step [8/10], Loss: 0.0000\ntorch.Size([64, 2])\nEpoch [19/40], Step [9/10], Loss: 0.0046\ntorch.Size([6, 2])\nEpoch [19/40], Step [10/10], Loss: 0.0000\ntorch.Size([64, 2])\nEpoch [20/40], Step [1/10], Loss: 0.0000\ntorch.Size([64, 2])\nEpoch [20/40], Step [2/10], Loss: 0.0000\ntorch.Size([64, 2])\nEpoch [20/40], Step [3/10], Loss: 0.6135\ntorch.Size([64, 2])\nEpoch [20/40], Step [4/10], Loss: 0.0516\ntorch.Size([64, 2])\nEpoch [20/40], Step [5/10], Loss: 0.0001\ntorch.Size([64, 2])\nEpoch [20/40], Step [6/10], Loss: 0.0000\ntorch.Size([64, 2])\nEpoch [20/40], Step [7/10], Loss: 0.0000\ntorch.Size([64, 2])\n"
    }
   ],
   "source": [
    "\n",
    "if 'loss.csv' in os.listdir('./'):\n",
    "    os.remove('loss.csv')\n",
    "\n",
    "model = ConvNet(num_classes).to(device)\n",
    "\n",
    "# Loss and optimizer\n",
    "criterion = nn.CrossEntropyLoss()\n",
    "optimizer = torch.optim.Adam(model.parameters(), lr=learning_rate)\n",
    "\n",
    "# Train the model\n",
    "total_step = len(train_loader)\n",
    "for epoch in range(num_epochs):\n",
    "    for i, (images, labels) in enumerate(train_loader):\n",
    "        images = images.to(device)\n",
    "        labels = labels.to(device)\n",
    "        \n",
    "        # Forward pass\n",
    "        outputs = model(images)\n",
    "        loss = criterion(outputs, labels)\n",
    "        \n",
    "        # Backward and optimize\n",
    "        optimizer.zero_grad()\n",
    "        loss.backward()\n",
    "        optimizer.step()\n",
    "        \n",
    "        print ('Epoch [{}/{}], Step [{}/{}], Loss: {:.4f}' \n",
    "                   .format(epoch+1, num_epochs, i+1, total_step, loss.item()))\n",
    "        with open(r'loss.csv', 'a') as f:\n",
    "            writer = csv.writer(f)\n",
    "            writer.writerow([loss.item()])\n",
    "    torch.save(model.state_dict(), 'model.ckpt')\n",
    "\n",
    "# Test the model\n",
    "\n",
    "model.eval()  # eval mode (batchnorm uses moving mean/variance instead of mini-batch mean/variance)\n",
    "with torch.no_grad():\n",
    "    correct = 0\n",
    "    total = 0\n",
    "    for images, labels in test_loader:\n",
    "        images = images.to(device)\n",
    "        labels = labels.to(device)\n",
    "        outputs = model(images)\n",
    "        _, predicted = torch.max(outputs.data, 1)\n",
    "        total += labels.size(0)\n",
    "        correct += (predicted == labels).sum().item()\n",
    "\n",
    "    print('Test Accuracy of the model on the 10000 test images: {} %'.format(100 * correct / total))\n",
    "\n",
    "# Save the model checkpoint\n",
    "# torch.save(model.state_dict(), 'model.ckpt')"
   ]
  },
  {
   "cell_type": "code",
   "execution_count": 33,
   "metadata": {},
   "outputs": [
    {
     "output_type": "stream",
     "name": "stdout",
     "text": "torch.Size([64, 1280000])\ntensor([1, 1, 0, 1, 0, 1, 0, 0, 0, 0, 0, 1, 0, 1, 1, 1, 1, 0, 1, 0, 1, 0, 0, 0,\n        0, 1, 1, 0, 1, 1, 0, 1, 1, 1, 1, 1, 1, 0, 0, 0, 1, 1, 0, 0, 0, 1, 0, 1,\n        1, 1, 1, 1, 0, 0, 1, 1, 0, 1, 1, 1, 1, 1, 1, 0])\n=============\ntensor([0, 0, 0, 0, 0, 0, 0, 0, 0, 0, 0, 0, 0, 0, 0, 0, 0, 0, 0, 0, 0, 0, 0, 0,\n        0, 0, 0, 0, 0, 0, 0, 0, 0, 0, 0, 0, 0, 0, 0, 0, 0, 0, 0, 0, 0, 0, 0, 0,\n        0, 0, 0, 0, 0, 0, 0, 0, 0, 0, 0, 0, 0, 0, 0, 0])\ntorch.Size([64, 1280000])\ntensor([0, 1, 0, 0, 0, 1, 0, 0, 0, 1, 0, 0, 1, 1, 0, 1, 0, 0, 1, 1, 0, 1, 1, 0,\n        1, 1, 1, 0, 1, 1, 0, 0, 1, 0, 1, 1, 1, 1, 1, 1, 1, 1, 1, 1, 1, 1, 1, 1,\n        0, 1, 1, 1, 1, 1, 1, 1, 1, 0, 0, 0, 0, 0, 1, 1])\n=============\ntensor([0, 0, 0, 0, 0, 0, 0, 0, 0, 0, 0, 0, 0, 0, 0, 0, 0, 0, 0, 0, 0, 0, 0, 0,\n        0, 0, 0, 0, 0, 0, 0, 0, 0, 0, 0, 0, 1, 1, 1, 1, 1, 1, 1, 1, 1, 1, 1, 1,\n        1, 1, 1, 1, 1, 1, 1, 1, 1, 1, 1, 1, 1, 1, 1, 1])\ntorch.Size([64, 1280000])\ntensor([1, 1, 1, 1, 1, 1, 1, 1, 1, 1, 1, 1, 1, 1, 1, 1, 1, 1, 1, 1, 0, 1, 1, 1,\n        1, 1, 1, 1, 1, 1, 1, 1, 1, 0, 0, 1, 0, 1, 1, 1, 1, 1, 1, 1, 1, 1, 1, 1,\n        1, 1, 1, 1, 1, 1, 1, 1, 1, 0, 1, 1, 1, 1, 1, 1])\n=============\ntensor([1, 1, 1, 1, 1, 1, 1, 1, 1, 1, 1, 1, 1, 1, 1, 1, 1, 1, 1, 1, 1, 1, 1, 1,\n        1, 1, 1, 1, 1, 1, 1, 1, 1, 1, 1, 1, 1, 1, 1, 1, 1, 1, 1, 1, 1, 1, 1, 1,\n        1, 1, 1, 1, 1, 1, 1, 1, 1, 1, 1, 1, 1, 1, 1, 1])\ntorch.Size([64, 1280000])\ntensor([0, 0, 1, 1, 1, 1, 1, 1, 1, 1, 1, 1, 1, 1, 1, 1, 1, 1, 0, 1, 0, 1, 1, 1,\n        0, 0, 0, 0, 1, 1, 1, 1, 1, 1, 1, 1, 1, 1, 1, 1, 1, 1, 1, 1, 1, 1, 1, 1,\n        1, 1, 1, 1, 1, 1, 1, 1, 1, 0, 1, 1, 1, 1, 1, 1])\n=============\ntensor([1, 1, 1, 1, 1, 1, 1, 1, 1, 1, 1, 1, 1, 1, 1, 1, 1, 1, 1, 1, 1, 1, 1, 1,\n        1, 1, 1, 1, 1, 1, 1, 1, 1, 1, 1, 1, 1, 1, 1, 1, 1, 1, 1, 1, 1, 1, 1, 1,\n        1, 1, 1, 1, 1, 1, 1, 1, 1, 1, 1, 1, 1, 1, 1, 1])\ntorch.Size([44, 1280000])\ntensor([1, 1, 1, 1, 1, 1, 1, 1, 1, 1, 1, 0, 1, 0, 1, 1, 1, 1, 1, 1, 1, 1, 1, 1,\n        1, 1, 1, 1, 1, 1, 1, 1, 1, 1, 1, 1, 1, 1, 1, 1, 1, 1, 1, 1])\n=============\ntensor([1, 1, 1, 1, 1, 1, 1, 1, 1, 1, 1, 1, 1, 1, 1, 1, 1, 1, 1, 1, 1, 1, 1, 1,\n        1, 1, 1, 1, 1, 1, 1, 1, 1, 1, 1, 1, 1, 1, 1, 1, 1, 1, 1, 1])\nTest Accuracy of the model on the 300 test images: 74.33333333333333 %\n"
    }
   ],
   "source": [
    "model = ConvNet(num_classes)\n",
    "model.load_state_dict(torch.load('model.ckpt'))\n",
    "model.eval()  # eval mode (batchnorm uses moving mean/variance instead of mini-batch mean/variance)\n",
    "with torch.no_grad():\n",
    "    correct = 0\n",
    "    total = 0\n",
    "    for images, labels in test_loader:\n",
    "        images = images.to(device)\n",
    "        labels = labels.to(device)\n",
    "        outputs = model(images)\n",
    "        _, predicted = torch.max(outputs.data, 1)\n",
    "        print(predicted)\n",
    "        print(\"=============\")\n",
    "        print(labels)\n",
    "        total += labels.size(0)\n",
    "        correct += (predicted == labels).sum().item()\n",
    "\n",
    "    print('Test Accuracy of the model on the {} test images: {} %'.format(test_no_num+test_yes_num,100 * correct / total))"
   ]
  },
  {
   "cell_type": "code",
   "execution_count": null,
   "metadata": {},
   "outputs": [],
   "source": []
  }
 ],
 "metadata": {
  "kernelspec": {
   "display_name": "Python 3.7.4 64-bit ('base': conda)",
   "language": "python",
   "name": "python37464bitbaseconda9de9e92c0c934fa599d99a4bd097821d"
  },
  "language_info": {
   "codemirror_mode": {
    "name": "ipython",
    "version": 3
   },
   "file_extension": ".py",
   "mimetype": "text/x-python",
   "name": "python",
   "nbconvert_exporter": "python",
   "pygments_lexer": "ipython3",
   "version": "3.7.4-final"
  }
 },
 "nbformat": 4,
 "nbformat_minor": 2
}